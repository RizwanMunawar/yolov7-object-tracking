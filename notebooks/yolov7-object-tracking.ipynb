{
  "nbformat": 4,
  "nbformat_minor": 0,
  "metadata": {
    "colab": {
      "provenance": []
    },
    "kernelspec": {
      "name": "python3",
      "display_name": "Python 3"
    },
    "language_info": {
      "name": "python"
    }
  },
  "cells": [
    {
      "cell_type": "markdown",
      "source": [
        "### YOLOv7 Object Tracking Using PyTorch, OpenCV and Sort Tracking\n",
        "\n",
        "* Creator and Maintanor: Muhammad Rizwan Munawar\n",
        "* Author GitHub Profile: [Explore](https://github.com/RizwanMunawar/)\n",
        "\n",
        "- [![Open in Colab](https://colab.research.google.com/assets/colab-badge.svg)](https://colab.research.google.com/github/RizwanMunawar/yolov7-object-tracking/blob/main/notebooks/yolov7-object-tracking.ipynb) [![Open in Kaggle](https://kaggle.com/static/images/open-in-kaggle.svg)](https://kaggle.com/kernels/welcome?src=https://colab.research.google.com/github/RizwanMunawar/yolov7-object-tracking/blob/main/notebooks/yolov7-object-tracking.ipynb) [![Open in SageMaker Studio Lab](https://studiolab.sagemaker.aws/studiolab.svg)](https://studiolab.sagemaker.aws/import/github/RizwanMunawar/yolov7-object-tracking/blob/main/notebooks/yolov7-object-tracking.ipynb)\n",
        "\n",
        "\n"
      ],
      "metadata": {
        "id": "Fw7v57rB1622"
      }
    },
    {
      "cell_type": "markdown",
      "source": [
        "#### Step-1: Clone the repository"
      ],
      "metadata": {
        "id": "xXp4yy0X2PM2"
      }
    },
    {
      "cell_type": "code",
      "execution_count": null,
      "metadata": {
        "id": "rwnqdpVC1w_4"
      },
      "outputs": [],
      "source": [
        "!git clone https://github.com/RizwanMunawar/yolov7-object-tracking\n"
      ]
    },
    {
      "cell_type": "markdown",
      "source": [
        "#### Step-2: Navigate to the cloned folder"
      ],
      "metadata": {
        "id": "IMZYV7xt2amO"
      }
    },
    {
      "cell_type": "code",
      "source": [
        "%cd \"yolov7-object-tracking\""
      ],
      "metadata": {
        "id": "7NFE9Mx52ZtI"
      },
      "execution_count": null,
      "outputs": []
    },
    {
      "cell_type": "markdown",
      "source": [
        "#### Step-3: Update `pip` and install dependencies:"
      ],
      "metadata": {
        "id": "bkYBJdqb2kD-"
      }
    },
    {
      "cell_type": "code",
      "source": [
        "!pip install --upgrade pip\n",
        "!pip install -r requirements.txt"
      ],
      "metadata": {
        "id": "sU4QnIxx2jTH"
      },
      "execution_count": null,
      "outputs": []
    },
    {
      "cell_type": "markdown",
      "source": [
        "#### Step-4: Run the Code"
      ],
      "metadata": {
        "id": "St5_iD7x2oom"
      }
    },
    {
      "cell_type": "code",
      "source": [
        "### Detection Only\n",
        "!python detect.py --weights yolov7.pt\n",
        "# !python detect.py --weights source=\"path/to/video.mp4\"\n",
        "\n",
        "### Object tracking\n",
        "!python detect_and_track.py --weights yolov7.pt\n",
        "# !python detect_and_track.py --weights yolov7.pt --source \"your video.mp4\"\n",
        "\n",
        "### Webcam\n",
        "!python detect_and_track.py --weights yolov7.pt --source 0\n",
        "\n",
        "### External Camera\n",
        "!python detect_and_track.py --weights yolov7.pt --source 1\n",
        "\n",
        "### Specific class tracking (e.g., person):\n",
        "!python detect_and_track.py --weights yolov7.pt --classes 0\n",
        "\n",
        "### Colored tracks\n",
        "!python detect_and_track.py --weights yolov7.pt --colored-trk\n",
        "\n",
        "### Save track centroids, IDs, and bounding box coordinates:\n",
        "!python detect_and_track.py --weights yolov7.pt --colored-trk"
      ],
      "metadata": {
        "id": "xOrbneW22el-"
      },
      "execution_count": null,
      "outputs": []
    }
  ]
}